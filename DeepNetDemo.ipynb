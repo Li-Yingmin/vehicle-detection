{
 "cells": [
  {
   "cell_type": "code",
   "execution_count": 1,
   "metadata": {},
   "outputs": [
    {
     "name": "stdout",
     "output_type": "stream",
     "text": [
      "loading existing classifier...\n",
      "Building YOLO_small graph...\n",
      "Layer  1 : Type = Conv, Size = 7 * 7, Stride = 2, Filters = 64, Input channels = 3\n",
      "Layer  2 : Type = Pool, Size = 2 * 2, Stride = 2\n",
      "Layer  3 : Type = Conv, Size = 3 * 3, Stride = 1, Filters = 192, Input channels = 64\n",
      "Layer  4 : Type = Pool, Size = 2 * 2, Stride = 2\n",
      "Layer  5 : Type = Conv, Size = 1 * 1, Stride = 1, Filters = 128, Input channels = 192\n",
      "Layer  6 : Type = Conv, Size = 3 * 3, Stride = 1, Filters = 256, Input channels = 128\n",
      "Layer  7 : Type = Conv, Size = 1 * 1, Stride = 1, Filters = 256, Input channels = 256\n",
      "Layer  8 : Type = Conv, Size = 3 * 3, Stride = 1, Filters = 512, Input channels = 256\n",
      "Layer  9 : Type = Pool, Size = 2 * 2, Stride = 2\n",
      "Layer  10 : Type = Conv, Size = 1 * 1, Stride = 1, Filters = 256, Input channels = 512\n",
      "Layer  11 : Type = Conv, Size = 3 * 3, Stride = 1, Filters = 512, Input channels = 256\n",
      "Layer  12 : Type = Conv, Size = 1 * 1, Stride = 1, Filters = 256, Input channels = 512\n",
      "Layer  13 : Type = Conv, Size = 3 * 3, Stride = 1, Filters = 512, Input channels = 256\n",
      "Layer  14 : Type = Conv, Size = 1 * 1, Stride = 1, Filters = 256, Input channels = 512\n",
      "Layer  15 : Type = Conv, Size = 3 * 3, Stride = 1, Filters = 512, Input channels = 256\n",
      "Layer  16 : Type = Conv, Size = 1 * 1, Stride = 1, Filters = 256, Input channels = 512\n",
      "Layer  17 : Type = Conv, Size = 3 * 3, Stride = 1, Filters = 512, Input channels = 256\n",
      "Layer  18 : Type = Conv, Size = 1 * 1, Stride = 1, Filters = 512, Input channels = 512\n",
      "Layer  19 : Type = Conv, Size = 3 * 3, Stride = 1, Filters = 1024, Input channels = 512\n",
      "Layer  20 : Type = Pool, Size = 2 * 2, Stride = 2\n",
      "Layer  21 : Type = Conv, Size = 1 * 1, Stride = 1, Filters = 512, Input channels = 1024\n",
      "Layer  22 : Type = Conv, Size = 3 * 3, Stride = 1, Filters = 1024, Input channels = 512\n",
      "Layer  23 : Type = Conv, Size = 1 * 1, Stride = 1, Filters = 512, Input channels = 1024\n",
      "Layer  24 : Type = Conv, Size = 3 * 3, Stride = 1, Filters = 1024, Input channels = 512\n",
      "Layer  25 : Type = Conv, Size = 3 * 3, Stride = 1, Filters = 1024, Input channels = 1024\n",
      "Layer  26 : Type = Conv, Size = 3 * 3, Stride = 2, Filters = 1024, Input channels = 1024\n",
      "Layer  27 : Type = Conv, Size = 3 * 3, Stride = 1, Filters = 1024, Input channels = 1024\n",
      "Layer  28 : Type = Conv, Size = 3 * 3, Stride = 1, Filters = 1024, Input channels = 1024\n",
      "Layer  29 : Type = Full, Hidden = 512, Input dimension = 50176, Flat = 1, Activation = 1\n",
      "Layer  30 : Type = Full, Hidden = 4096, Input dimension = 512, Flat = 0, Activation = 1\n",
      "Layer  32 : Type = Full, Hidden = 1470, Input dimension = 4096, Flat = 0, Activation = 0\n",
      "INFO:tensorflow:Restoring parameters from weights/YOLO_small.ckpt\n",
      "Loading complete!\n",
      "[MoviePy] >>>> Building video outputDemo/project_YOLO.mp4\n",
      "[MoviePy] Writing video outputDemo/project_YOLO.mp4\n"
     ]
    },
    {
     "name": "stderr",
     "output_type": "stream",
     "text": [
      " 99%|█████████▊| 75/76 [01:09<00:00,  1.05it/s]\n"
     ]
    },
    {
     "name": "stdout",
     "output_type": "stream",
     "text": [
      "[MoviePy] Done.\n",
      "[MoviePy] >>>> Video ready: outputDemo/project_YOLO.mp4 \n",
      "\n"
     ]
    }
   ],
   "source": [
    "from moviepy.editor import VideoFileClip\n",
    "from svm_pipeline import *\n",
    "from yolo_pipeline import *\n",
    "from lane import *\n",
    "\n",
    "\n",
    "def pipeline_yolo(img):\n",
    "\n",
    "    img_undist, img_lane_augmented, lane_info = lane_process(img)\n",
    "    output = vehicle_detection_yolo(img_undist, img_lane_augmented, lane_info)\n",
    "\n",
    "    return output\n",
    "\n",
    "def pipeline_svm(img):\n",
    "\n",
    "    img_undist, img_lane_augmented, lane_info = lane_process(img)\n",
    "    output = vehicle_detection_svm(img_undist, img_lane_augmented, lane_info)\n",
    "\n",
    "    return output\n",
    "\n",
    "\n",
    "if __name__ == \"__main__\":\n",
    "\n",
    "    demo = 2  # 1:image (YOLO and SVM), 2: video (YOLO Pipeline), 3: video (SVM pipeline)\n",
    "\n",
    "    if demo == 1:\n",
    "        filename = 'examples/test4.jpg'\n",
    "        image = mpimg.imread(filename)\n",
    "\n",
    "        #(1) Yolo pipeline\n",
    "        yolo_result = pipeline_yolo(image)\n",
    "        plt.figure()\n",
    "        plt.imshow(yolo_result)\n",
    "        plt.title('yolo pipeline', fontsize=30)\n",
    "\n",
    "        #(2) SVM pipeline\n",
    "        draw_img = pipeline_svm(image)\n",
    "        fig = plt.figure()\n",
    "        plt.imshow(draw_img)\n",
    "        plt.title('svm pipeline', fontsize=30)\n",
    "        plt.show()\n",
    "\n",
    "    elif demo == 2:\n",
    "        # YOLO Pipeline\n",
    "        video_output = 'outputDemo/project_YOLO.mp4'\n",
    "        clip1 = VideoFileClip(\"examples/project_video.mp4\").subclip(32,35)\n",
    "        clip = clip1.fl_image(pipeline_yolo)\n",
    "        clip.write_videofile(video_output, audio=False)\n",
    "\n",
    "    else:\n",
    "        # SVM pipeline\n",
    "        video_output = 'outputDemo/project_svm.mp4'\n",
    "        clip1 = VideoFileClip(\"examples/project_video.mp4\").subclip(30,32)\n",
    "        clip = clip1.fl_image(pipeline_svm)\n",
    "        clip.write_videofile(video_output, audio=False)"
   ]
  },
  {
   "cell_type": "code",
   "execution_count": null,
   "metadata": {},
   "outputs": [],
   "source": []
  }
 ],
 "metadata": {
  "kernelspec": {
   "display_name": "Python 3",
   "language": "python",
   "name": "python3"
  },
  "language_info": {
   "codemirror_mode": {
    "name": "ipython",
    "version": 3
   },
   "file_extension": ".py",
   "mimetype": "text/x-python",
   "name": "python",
   "nbconvert_exporter": "python",
   "pygments_lexer": "ipython3",
   "version": "3.5.5"
  }
 },
 "nbformat": 4,
 "nbformat_minor": 2
}
